{
 "cells": [
  {
   "cell_type": "markdown",
   "id": "0",
   "metadata": {},
   "source": [
    "# Train A Shape Classifier Model\n",
    "\n"
   ]
  },
  {
   "cell_type": "code",
   "execution_count": null,
   "id": "1",
   "metadata": {},
   "outputs": [],
   "source": [
    "import json\n",
    "import os\n",
    "import pandas as pd\n",
    "\n",
    "def load_classification_dataset(dataset_dir):\n",
    "    \"\"\"\n",
    "    Load a classification dataset from a directory layout where each subdirectory\n",
    "    represents a class, and each image in the subdirectory belongs to that class.\n",
    "\n",
    "    Args:\n",
    "        dataset_dir (str): Path to the dataset directory.\n",
    "\n",
    "    Returns:\n",
    "        pd.DataFrame: DataFrame containing two columns: 'filename' and 'label'.\n",
    "    \"\"\"\n",
    "    data = []\n",
    "\n",
    "    # Traverse through each class folder in the dataset directory\n",
    "    for class_name in os.listdir(dataset_dir):\n",
    "        class_dir = os.path.join(dataset_dir, class_name)\n",
    "\n",
    "        # Ensure that it's a directory (not a file or other item)\n",
    "        if os.path.isdir(class_dir):\n",
    "            # Get all image files in the class directory\n",
    "            for img_file in os.listdir(class_dir):\n",
    "                if img_file.endswith(('.png', '.jpg', '.jpeg')):  # Filter image files by extension\n",
    "                    img_path = os.path.join(class_name, img_file)\n",
    "                    data.append([img_path, class_name])\n",
    "\n",
    "    # Create a DataFrame from the collected data\n",
    "    df = pd.DataFrame(data, columns=['filename', 'label'])\n",
    "    return df\n",
    "\n",
    "# Example usage\n",
    "df_train = load_classification_dataset(\"datasets/train\")\n",
    "df_train[\"split\"] = \"train\"\n",
    "df_test = load_classification_dataset(\"datasets/test\")\n",
    "df_test[\"split\"] = \"test\"\n",
    "df = pd.concat([df_train, df_test])\n",
    "df"
   ]
  },
  {
   "cell_type": "code",
   "execution_count": null,
   "id": "2",
   "metadata": {},
   "outputs": [],
   "source": [
    "import torch\n",
    "import torch.nn as nn\n",
    "import torch.nn.functional as F\n",
    "import torch.optim as optim\n",
    "from torchvision import datasets, transforms"
   ]
  }
 ],
 "metadata": {
  "kernelspec": {
   "display_name": "Python 3 (ipykernel)",
   "language": "python",
   "name": "python3"
  },
  "language_info": {
   "codemirror_mode": {
    "name": "ipython",
    "version": 3
   },
   "file_extension": ".py",
   "mimetype": "text/x-python",
   "name": "python",
   "nbconvert_exporter": "python",
   "pygments_lexer": "ipython3",
   "version": "3.11.8"
  }
 },
 "nbformat": 4,
 "nbformat_minor": 5
}
